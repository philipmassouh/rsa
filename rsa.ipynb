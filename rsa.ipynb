{
 "cells": [
  {
   "cell_type": "markdown",
   "metadata": {},
   "source": [
    "# This is a python demo/explanation of RSA cryptography"
   ]
  },
  {
   "cell_type": "markdown",
   "metadata": {},
   "source": [
    "## 1. Choose two distinct prime numbers $p$ and $q$.\n",
    "\n",
    "- These should be chosen at random\n",
    "- Similar in magnitude but differ in length a little to make factoring harder\n",
    "- These numbers must be kept secret"
   ]
  },
  {
   "cell_type": "markdown",
   "metadata": {},
   "source": [
    "Usually, the larger the better, but for the purpose of this demo we are going to use small numbers because we are just describing the process, not trying to actually build a secure implementation."
   ]
  },
  {
   "cell_type": "code",
   "execution_count": 1,
   "metadata": {},
   "outputs": [],
   "source": [
    "p = 997\n",
    "q = 2063"
   ]
  },
  {
   "cell_type": "markdown",
   "metadata": {},
   "source": [
    "Now we want to compute $n = pq$. \n",
    "\n",
    "$n$ is the **modulus** for both the private and public keys. \n",
    "\n",
    "The length of $n$, typically expressed in bits is the **key length**"
   ]
  },
  {
   "cell_type": "code",
   "execution_count": 2,
   "metadata": {},
   "outputs": [],
   "source": [
    "n = p * q"
   ]
  },
  {
   "cell_type": "markdown",
   "metadata": {},
   "source": [
    "Now we want to compute $\\lambda{(n)}$ where $\\lambda$ is Carmichael's totient function. <br>\n",
    "\n",
    "Since $n = pq$ <br>\n",
    "    &emsp; $\\lambda{(n)} = \\text{lcm}(\\lambda{(p)},\\lambda{(q)})$, where lcm is least common multiple.\n",
    "\n",
    "Since $p$ and $q$ are both prime, <br>\n",
    "    &emsp; $\\lambda{(p)} = \\phi{(p-1)}$ and <br>\n",
    "    &emsp; $\\lambda{(q)} = \\phi{(q-1)}$\n",
    "\n",
    "Therefore, <br>\n",
    "    &emsp; $\\lambda{(n)} = \\text{lcm}(p-1,q-1)$\n",
    "\n",
    "This value is kept secret."
   ]
  },
  {
   "cell_type": "code",
   "execution_count": 3,
   "metadata": {},
   "outputs": [],
   "source": [
    "import math\n",
    "lambda_n = math.lcm(p-1, q-1)"
   ]
  },
  {
   "cell_type": "markdown",
   "metadata": {},
   "source": [
    "Now we have to choose an integer $e$ such that <br>\n",
    "&emsp; $1 < e < \\lambda{(n)}$, and <br>\n",
    "&emsp; $\\text{gcd}(e, \\lambda{(n)}) = 1$ <br><br>\n",
    "This means that $e$ and $\\lambda{(n)}$ are coprime\n",
    "\n",
    "$e$ is released as part of the public key."
   ]
  },
  {
   "cell_type": "code",
   "execution_count": 4,
   "metadata": {},
   "outputs": [
    {
     "name": "stdout",
     "output_type": "stream",
     "text": [
      "e: 197729\n"
     ]
    }
   ],
   "source": [
    "# there are many factors for choosing the best e, we will choose randomly from first half.\n",
    "import random\n",
    "\n",
    "es = []\n",
    "for e0 in range(3, lambda_n):\n",
    "    if (math.gcd(e0, lambda_n) == 1):\n",
    "        es.append(e0)\n",
    "\n",
    "e = random.choice(es[:len(es)//2])\n",
    "\n",
    "print(f\"e: {e}\")"
   ]
  },
  {
   "cell_type": "markdown",
   "metadata": {},
   "source": [
    "Now we want to find the modular multiplicative inverse of $e$ modulo $\\lambda{(n)}$\n",
    "That is, \n",
    "    $d$ such that $d \\equiv e^{-1} \\text{ (mod } \\lambda{(n)})$\n",
    "\n",
    "$d$ is kept secret"
   ]
  },
  {
   "cell_type": "code",
   "execution_count": 5,
   "metadata": {},
   "outputs": [],
   "source": [
    "d = pow(e, -1, lambda_n)"
   ]
  },
  {
   "cell_type": "markdown",
   "metadata": {},
   "source": [
    "### Key distribution\n",
    "\n",
    "Suppose Rob wants to send a secret message to Amy.\n",
    "Amy sends her public key $(n,e)$ to Rob via a reliable route, doesn't have to be secret!\n",
    "Amy's private key $(d)$, however, is never shared."
   ]
  },
  {
   "cell_type": "markdown",
   "metadata": {},
   "source": [
    "### Encryption\n",
    "\n",
    "Now that Rob has Amy's public key, he can send a message $M$ to Amy."
   ]
  },
  {
   "cell_type": "code",
   "execution_count": 6,
   "metadata": {},
   "outputs": [],
   "source": [
    "M = \"what u want from mikkydees lmao\""
   ]
  },
  {
   "cell_type": "markdown",
   "metadata": {},
   "source": [
    "Rob finds a way to turn this message into an integer $m$, we are demonstrating a different part of the process so we will just use a naive method.\n",
    "\n",
    "Then he encrypts it into ciphertext $c$ with modular exponentiation $m^{e} \\equiv c \\text{ (mod } n)$"
   ]
  },
  {
   "cell_type": "code",
   "execution_count": 7,
   "metadata": {},
   "outputs": [
    {
     "name": "stdout",
     "output_type": "stream",
     "text": [
      "cipher: [1105590, 734952, 473843, 645584, 327010, 445152, 327010, 1105590, 473843, 171513, 645584, 327010, 366365, 2499, 715188, 1035182, 327010, 1035182, 1850699, 955390, 955390, 1679534, 1938001, 1909696, 1909696, 506130, 327010, 310503, 1035182, 473843, 715188]\n"
     ]
    }
   ],
   "source": [
    "c = [(ord(char) ** e) % n for char in M]\n",
    "\n",
    "print(f\"cipher: {c}\")"
   ]
  },
  {
   "cell_type": "markdown",
   "metadata": {},
   "source": [
    "He sends $c$ to Amy which she can then decrypt by computing $c^{d} \\equiv (m^{e})^{d} \\equiv m \\text{ (mod } n)$"
   ]
  },
  {
   "cell_type": "code",
   "execution_count": 8,
   "metadata": {},
   "outputs": [],
   "source": [
    "M2 = ''.join([chr((char ** d) % n) for char in c])"
   ]
  },
  {
   "cell_type": "code",
   "execution_count": 9,
   "metadata": {},
   "outputs": [
    {
     "name": "stdout",
     "output_type": "stream",
     "text": [
      "what u want from mikkydees lmao\n"
     ]
    }
   ],
   "source": [
    "print(M2)"
   ]
  }
 ],
 "metadata": {
  "interpreter": {
   "hash": "e7370f93d1d0cde622a1f8e1c04877d8463912d04d973331ad4851f04de6915a"
  },
  "kernelspec": {
   "display_name": "Python 3.9.7 64-bit",
   "name": "python3"
  },
  "language_info": {
   "codemirror_mode": {
    "name": "ipython",
    "version": 3
   },
   "file_extension": ".py",
   "mimetype": "text/x-python",
   "name": "python",
   "nbconvert_exporter": "python",
   "pygments_lexer": "ipython3",
   "version": "3.9.7"
  },
  "orig_nbformat": 4
 },
 "nbformat": 4,
 "nbformat_minor": 2
}
